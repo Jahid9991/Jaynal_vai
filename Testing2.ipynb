{
 "cells": [
  {
   "cell_type": "code",
   "execution_count": 23,
   "id": "c90c1726",
   "metadata": {},
   "outputs": [
    {
     "name": "stdout",
     "output_type": "stream",
     "text": [
      "Netherlands\n"
     ]
    }
   ],
   "source": [
    "# http://www.howstat.com/cricket/Statistics/Matches/MatchListCountry_ODI.asp?A=BAN\n",
    "import re\n",
    "import requests\n",
    "from bs4 import BeautifulSoup\n",
    "\n",
    "###########################################################################################################\n",
    "############ First Page For extracting team_name, date, opponent, stadium, match_result ###################\n",
    "###########################################################################################################\n",
    "url = 'http://www.howstat.com/cricket/Statistics/Matches/MatchListCountry_ODI.asp?A=NED'\n",
    "# Make a GET request to the website\n",
    "response = requests.get(url)\n",
    "\n",
    "soup = BeautifulSoup(response.content, 'html.parser')\n",
    "team = soup.find_all('option', selected=True)[0].text\n",
    "print(team)\n",
    "\n",
    "country_options = soup.find_all('select', {'name':'cboCountry1'})"
   ]
  },
  {
   "cell_type": "code",
   "execution_count": 30,
   "id": "a5179c3b",
   "metadata": {},
   "outputs": [
    {
     "name": "stdout",
     "output_type": "stream",
     "text": [
      "['Afghanistan', 'Australia', 'Bangladesh', 'Bermuda', 'Canada', 'East Africa', 'England', 'Hong Kong', 'India', 'Ireland', 'Jersey', 'Kenya', 'Namibia', 'Nepal', 'Netherlands', 'New Zealand', 'Oman', 'Pakistan', 'Papua New Guinea', 'Scotland', 'South Africa', 'Sri Lanka', 'United Arab Emirates', 'United States', 'West Indies', 'Zimbabwe']\n",
      "26\n",
      "['Afghanistan', 'Australia', 'Bangladesh', 'Bermuda', 'Canada', 'East Africa', 'England', 'Hong Kong', 'India', 'Ireland', 'Jersey', 'Kenya', 'Namibia', 'Nepal', 'New Zealand', 'Oman', 'Pakistan', 'Papua New Guinea', 'Scotland', 'South Africa', 'Sri Lanka', 'United Arab Emirates', 'United States', 'West Indies', 'Zimbabwe']\n",
      "25\n"
     ]
    }
   ],
   "source": [
    "countries = []\n",
    "for i in country_options[0].find_all('option'):\n",
    "        countries.append(i.text)\n",
    "print(countries)\n",
    "print(len(countries))\n",
    "c_countries = countries.copy()\n",
    "c_countries.remove(team)\n",
    "print(c_countries)\n",
    "print(len(c_countries))"
   ]
  },
  {
   "cell_type": "code",
   "execution_count": 54,
   "id": "bd1df0b0",
   "metadata": {},
   "outputs": [],
   "source": [
    "tables = soup.find(class_='TableLined')\n",
    "list_of_data = []\n",
    "for i in tables:\n",
    "    if i != '\\n':\n",
    "        list_of_data.append(i)\n",
    "\n",
    "\n",
    "date_column = []\n",
    "opponent_teams = []\n",
    "stadiums = []\n",
    "winners = []\n",
    "for m in range(1, len(list_of_data)):\n",
    "    td_data = []\n",
    "    for i in list_of_data[m]:\n",
    "        if i != '\\n':\n",
    "            td_data.append(i)\n",
    "    date_column.append(td_data[1].text.strip())\n",
    "    c_in_table = td_data[2].text.strip().replace(')', \"\")\n",
    "    for op_t in c_countries:\n",
    "        if op_t in c_in_table:\n",
    "            opponent_teams.append(op_t)\n",
    "            break\n",
    "    stadiums.append(td_data[3].text.strip())\n",
    "    wining_result = td_data[4].text.strip()\n",
    "    if \"Tied\" in wining_result:\n",
    "        winners.append(-1)\n",
    "    elif \"No\" in wining_result:\n",
    "        winners.append(-2)\n",
    "    elif team in wining_result:\n",
    "        winners.append(1)\n",
    "    else:\n",
    "        winners.append(0)\n",
    "\n",
    "team_name = []\n",
    "for i in range(len(winners)):\n",
    "    team_name.append(team)\n",
    "\n"
   ]
  },
  {
   "cell_type": "code",
   "execution_count": 55,
   "id": "03450ca5",
   "metadata": {},
   "outputs": [
    {
     "name": "stdout",
     "output_type": "stream",
     "text": [
      "116\n",
      "116\n",
      "116\n",
      "116\n",
      "116\n"
     ]
    }
   ],
   "source": [
    "# print(team_name)\n",
    "print(len(team_name))\n",
    "# print(opponent_teams)\n",
    "print(len(opponent_teams))\n",
    "# print(date_column)\n",
    "print(len(date_column))\n",
    "# print(winners)\n",
    "print(len(winners))\n",
    "# print(stadiums)\n",
    "print(len(stadiums))"
   ]
  },
  {
   "cell_type": "code",
   "execution_count": 57,
   "id": "27e433a9",
   "metadata": {},
   "outputs": [
    {
     "data": {
      "text/plain": [
       "-2"
      ]
     },
     "execution_count": 57,
     "metadata": {},
     "output_type": "execute_result"
    }
   ],
   "source": [
    "winners[16]"
   ]
  },
  {
   "cell_type": "code",
   "execution_count": 41,
   "id": "50d87de7",
   "metadata": {},
   "outputs": [
    {
     "name": "stdout",
     "output_type": "stream",
     "text": [
      "['India', 'Pakistan', 'Pakistan', 'Pakistan', 'Pakistan', 'Sri Lanka', 'Sri Lanka', 'South Africa', 'South Africa', 'South Africa', 'South Africa', 'Zimbabwe', 'South Africa', 'Netherlands', 'Netherlands', 'Scotland', 'Scotland', 'South Africa', 'South Africa', 'South Africa', 'South Africa', 'Kenya', 'Kenya', 'Kenya', 'Kenya', 'Kenya', 'West Indies', 'West Indies', 'West Indies', 'Canada', 'Ireland', 'Ireland', 'Ireland', 'Netherlands', 'Netherlands', 'Ireland', 'Ireland', 'Netherlands', 'Netherlands', 'South Africa', 'South Africa', 'South Africa', 'Netherlands', 'Netherlands', 'Netherlands', 'Kenya', 'Kenya', 'Netherlands', 'Netherlands', 'Netherlands', 'Netherlands', 'Netherlands', 'Netherlands', 'Netherlands', 'Scotland', 'Ireland', 'Ireland', 'India', 'India', 'India', 'India', 'Bangladesh', 'India', 'Scotland', 'Scotland', 'Netherlands', 'Netherlands', 'United Arab Emirates', 'United Arab Emirates', 'Netherlands', 'Netherlands', 'Canada', 'Canada', 'Netherlands', 'New Zealand', 'New Zealand', 'Netherlands', 'Netherlands', 'Netherlands', 'Netherlands', 'Netherlands', 'Netherlands', 'Netherlands', 'Netherlands', 'Netherlands', 'South Africa', 'South Africa', 'South Africa', 'Qatar', 'Qatar', 'Qatar', 'New Zealand', 'New Zealand', 'New Zealand', 'Netherlands', 'Netherlands', 'Netherlands', 'Netherlands', 'Netherlands', 'Netherlands', 'Netherlands', 'Netherlands', 'Netherlands', 'Zimbabwe', 'Zimbabwe', 'Zimbabwe', 'Zimbabwe', 'Zimbabwe', 'Zimbabwe', 'Zimbabwe', 'Zimbabwe', 'Zimbabwe', 'Zimbabwe', 'Zimbabwe', 'India', 'India']\n",
      "116\n"
     ]
    }
   ],
   "source": [
    "host_countries = []\n",
    "a_hrefs = soup.find_all(\"a\", {\"class\": \"LinkBlack2\"})\n",
    "for j in a_hrefs:\n",
    "    single_link = j.get('href')\n",
    "    response_of_third = requests.get('http://www.howstat.com/cricket/Statistics/' + single_link[2:])\n",
    "    soup_third = BeautifulSoup(response_of_third.content, 'html.parser')\n",
    "    tables_third = soup_third.find(class_='TableLined')\n",
    "    list_of_country = []\n",
    "    for i in tables_third:\n",
    "        if i != '\\n':\n",
    "            list_of_country.append(i)\n",
    "    country_column = []\n",
    "    for i in list_of_country[1]:\n",
    "        if i != '\\n':\n",
    "            country_column.append(i.text.strip())\n",
    "    host_countries.append(country_column[1])\n",
    "\n",
    "print(host_countries)\n",
    "print(len(host_countries))"
   ]
  },
  {
   "cell_type": "markdown",
   "id": "f9e826d6",
   "metadata": {},
   "source": [
    "## Team Leaders"
   ]
  },
  {
   "cell_type": "code",
   "execution_count": 51,
   "id": "851bbd8a",
   "metadata": {},
   "outputs": [],
   "source": [
    "team_leaders = []\n",
    "op_team_leaders = []\n",
    "toss_results = []\n",
    "a_href = soup.find_all(\"a\", {\"class\": \"LinkTable\"})\n",
    "for j in a_href:\n",
    "    single_link = j.get('href')\n",
    "    response_of_second = requests.get('http://www.howstat.com/cricket/Statistics/Matches/' + single_link)\n",
    "    soup_second = BeautifulSoup(response_of_second.content, 'html.parser')\n",
    "    tables_seconds = soup_second.find_all('td')\n",
    "    filtered_td = soup_second.find_all(\"td\")\n",
    "    tables_seconds_team = soup_second.find_all(class_='TextBlackBold8')\n",
    "    second = tables_seconds_team[3].text.strip()\n",
    "\n",
    "    leaders = []\n",
    "    for k in filtered_td:\n",
    "        if '*' in k.text.strip().split('\\n')[0]:\n",
    "            leaders.append(k.text.strip().split('\\n')[0])\n",
    "    leader, op_leader = \" \", \" \"\n",
    "    if len(leaders) > 1 and len(leaders[0]) < 30  and len(leaders[1]) <30:\n",
    "        if team == second:\n",
    "            leader, op_leader = leaders\n",
    "        else:\n",
    "            op_leader, leader, = leaders\n",
    "    leader = leader.replace(\"†\", \"\")\n",
    "    op_leader = op_leader.replace(\"†\", \"\")\n",
    "    team_leaders.append(leader.replace('*',\"\").strip())\n",
    "    op_team_leaders.append(op_leader.replace(\"*\", \"\").strip())\n",
    "    toss = soup_second.find_all(class_='TextBlack8')\n",
    "    toss_res = []\n",
    "    for i in toss:\n",
    "        toss_res.append(i.text.strip())\n",
    "    toss_res = toss_res[4].split(\" \")\n",
    "    if toss_res[0] == \"ODI\":\n",
    "        toss_results.append('')\n",
    "    elif team in toss_res:\n",
    "        toss_results.append(1)\n",
    "    else:\n",
    "        toss_results.append(0)\n",
    "\n",
    "\n"
   ]
  },
  {
   "cell_type": "code",
   "execution_count": 52,
   "id": "8a8778ef",
   "metadata": {},
   "outputs": [
    {
     "name": "stdout",
     "output_type": "stream",
     "text": [
      "['Steven Lubbers', 'Steven Lubbers', 'Roland Lefebvre', 'Steven Lubbers', 'Steven Lubbers', 'Roland Lefebvre', 'Roland Lefebvre', 'Roland Lefebvre', 'Roland Lefebvre', 'Roland Lefebvre', 'Roland Lefebvre', 'Roland Lefebvre', 'Lucas van Troost', 'Lucas van Troost', 'Lucas van Troost', 'Lucas van Troost', 'Lucas van Troost', 'Lucas van Troost', 'Lucas van Troost', 'Lucas van Troost', 'Lucas van Troost', 'Lucas van Troost', 'Lucas van Troost', 'Lucas van Troost', 'Lucas van Troost', 'Lucas van Troost', 'Lucas van Troost', 'Lucas van Troost', 'Jeroen Smits', 'Jeroen Smits', 'Jeroen Smits', 'Jeroen Smits', '', 'Jeroen Smits', 'Jeroen Smits', 'Jeroen Smits', 'Jeroen Smits', 'Jeroen Smits', 'Jeroen Smits', 'Jeroen Smits', 'Jeroen Smits', 'Jeroen Smits', 'Jeroen Smits', 'Jeroen Smits', 'Jeroen Smits', 'Peter Borren', 'Peter Borren', 'Peter Borren', 'Peter Borren', 'Peter Borren', 'Peter Borren', 'Peter Borren', 'Peter Borren', 'Peter Borren', 'Peter Borren', 'Peter Borren', 'Peter Borren', 'Peter Borren', 'Peter Borren', 'Peter Borren', 'Peter Borren', 'Peter Borren', 'Peter Borren', 'Peter Borren', 'Peter Borren', 'Peter Borren', 'Peter Borren', 'Peter Borren', 'Peter Borren', 'Peter Borren', 'Peter Borren', 'Peter Borren', 'Peter Borren', 'Peter Borren', 'Peter Borren', 'Peter Borren', 'Pieter Seelaar', 'Pieter Seelaar', 'Pieter Seelaar', 'Pieter Seelaar', 'Pieter Seelaar', 'Pieter Seelaar', 'Pieter Seelaar', 'Pieter Seelaar', 'Pieter Seelaar', 'Pieter Seelaar', 'Scott Edwards', 'Scott Edwards', 'Pieter Seelaar', 'Pieter Seelaar', 'Pieter Seelaar', 'Pieter Seelaar', 'Pieter Seelaar', 'Pieter Seelaar', 'Pieter Seelaar', 'Pieter Seelaar', 'Pieter Seelaar', 'Pieter Seelaar', 'Scott Edwards', 'Scott Edwards', 'Scott Edwards', 'Scott Edwards', 'Scott Edwards', 'Scott Edwards', 'Scott Edwards', 'Scott Edwards', 'Scott Edwards', 'Scott Edwards', 'Scott Edwards', 'Scott Edwards', 'Scott Edwards', 'Scott Edwards', 'Scott Edwards', 'Scott Edwards', 'Scott Edwards', 'Scott Edwards']\n",
      "116\n",
      "['Lee Germon', 'Michael Atherton', 'Wasim Akram', 'Sultan Zarawani', 'Hansie Cronje', 'Sanath Jayasuriya', 'Waqar Younis', 'Sourav Ganguly', 'Nasser Hussain', 'Ricky Ponting', 'Waqar Younis', 'Heath Streak', 'Deon Kotze', 'Mahela Jayawardene', 'Mahela Jayawardene', 'Craig Wright', 'Trent Johnston', 'George Codrington', 'Irvine Romaine', 'George Codrington', 'Irvine Romaine', 'John Davison', 'Steve Tikolo', 'Craig Wright', 'Irvine Romaine', 'William McCallan', 'Graeme Smith', 'Ricky Ponting', 'Craig Wright', 'Ashish Bagai', 'Chris Gayle', 'Trent Johnston', '', 'Irvine Romaine', 'Dwight Basden', 'William Porterfield', 'Ryan Watson', 'Irvine Romaine', 'Steve Tikolo', 'Steve Tikolo', 'Irvine Romaine', 'Steve Tikolo', 'Ashish Bagai', 'Nawroz Mangal', 'Nawroz Mangal', 'Maurice Ouma', 'Maurice Ouma', 'Gordon Drummond', 'Gordon Drummond', 'Maurice Ouma', 'Ashish Bagai', 'Nawroz Mangal', \"Kevin O'Brien\", 'Nawroz Mangal', 'Mashrafe Mortaza', 'Trent Johnston', 'Trent Johnston', 'Andrew Strauss', 'Daren Sammy', 'Graeme Smith', 'M S Dhoni', 'Shakib Al Hasan', 'William Porterfield', 'Gordon Drummond', 'Gordon Drummond', 'Collins Obuya', 'Collins Obuya', 'Nawroz Mangal', 'Nawroz Mangal', 'William Porterfield', 'William Porterfield', 'Ashish Bagai', 'Ashish Bagai', 'AB de Villiers', 'Rakep Patel', 'Jimmy Hansra', 'Paras Khadka', 'Paras Khadka', 'Hamilton Masakadza', 'Hamilton Masakadza', 'Kyle Coetzer', 'Kyle Coetzer', 'Andy Balbirnie', 'Andy Balbirnie', 'Andy Balbirnie', 'Keshav Maharaj', 'Temba Bavuma', 'Temba Bavuma', 'Hashmatullah Shahidi', 'Hashmatullah Shahidi', 'Hashmatullah Shahidi', 'Tom Latham', 'Tom Latham', 'Tom Latham', 'Nicholas Pooran', 'Nicholas Pooran', 'Nicholas Pooran', 'Eoin Morgan', 'Eoin Morgan', 'Jos Buttler', 'Babar Azam', 'Babar Azam', 'Babar Azam', 'Craig Ervine', 'Craig Ervine', 'Craig Ervine', 'Craig Ervine', 'Aaron Jones', 'Rohit Paudel', 'Shai Hope', 'Dasun Shanaka', 'Aqib Ilyas', 'Richie Berrington', 'Dasun Shanaka', 'Babar Azam', 'Tom Latham']\n",
      "116\n",
      "[0, 0, 1, 0, 0, 0, 1, 0, 0, 1, 1, 1, 1, 0, 0, 1, 0, 0, 0, 1, 1, 0, 0, 1, 1, 0, 1, 0, 1, 1, 1, 0, '', 0, 1, 0, 1, 1, 1, 0, 0, 1, 0, 0, 1, 0, 0, 0, 1, 0, 0, 0, 0, 1, 1, 1, 1, 1, 1, 1, 1, 1, 0, 0, 0, 0, 0, 0, 0, 0, 0, 0, 1, 0, 0, 0, 1, 0, 0, 0, 1, 1, 1, 1, 0, 1, 0, 1, 1, 0, 0, 1, 1, 0, 0, 1, 0, 1, 1, 0, 0, 1, 0, 1, 0, 1, 0, 1, 1, 1, 0, 0, 1, 1, 1, 1]\n",
      "116\n"
     ]
    }
   ],
   "source": [
    "print(team_leaders)\n",
    "print(len(team_leaders))\n",
    "print(op_team_leaders)\n",
    "print(len(op_team_leaders))\n",
    "print(toss_results)\n",
    "print(len(toss_results))"
   ]
  },
  {
   "cell_type": "code",
   "execution_count": 72,
   "id": "580dd490",
   "metadata": {},
   "outputs": [
    {
     "name": "stdout",
     "output_type": "stream",
     "text": [
      "116\n",
      "116\n",
      "116\n",
      "116\n",
      "116\n",
      "116\n",
      "116\n",
      "116\n",
      "116\n"
     ]
    }
   ],
   "source": [
    "for i in range(len(team_name)):\n",
    "    team_name\n",
    "    opponent_teams\n",
    "    date_column\n",
    "    winners\n",
    "    stadiums\n",
    "    host_countries\n",
    "    team_leaders\n",
    "    op_team_leaders\n",
    "    toss_results\n"
   ]
  },
  {
   "cell_type": "code",
   "execution_count": null,
   "id": "a48e97f5",
   "metadata": {},
   "outputs": [],
   "source": [
    "print(len(team_name))\n",
    "print(len(opponent_teams))\n",
    "print(len(date_column))\n",
    "print(len(winners))\n",
    "print(len(stadiums))\n",
    "print(len(host_countries))\n",
    "print(len(team_leaders))\n",
    "print(len(op_team_leaders))\n",
    "print(len(toss_results))"
   ]
  },
  {
   "cell_type": "code",
   "execution_count": 92,
   "id": "1083ee99",
   "metadata": {},
   "outputs": [],
   "source": [
    "from jsonschema import validate\n",
    "dataframe\n",
    "schema = {\n",
    "    \"type\":\"object\",\n",
    "    \"properties\":{\n",
    "        \"country\":{\"type\":\"string\", \"minlength\": 2, \"maxlength\": 20},\n",
    "        \"opponent\":{\"type\":\"string\", \"minlength\": 2, \"maxlength\": 20},\n",
    "        \"date\":{\"type\": \"string\", \"format\": \"datetime\"},\n",
    "        \"outcome\":{\"type\":\"number\", \"minimum\": -1, \"maximum\": 1, \"length\":1},\n",
    "        \"stadium\":{\"type\":\"string\", \"minlength\": 2, \"maxlength\": 50},\n",
    "        \"host\":{\"type\":\"string\", \"minlength\": 2, \"maxlength\": 20},\n",
    "        \"captain\": {\"type\":\"string\", \"minlength\": 2, \"maxlength\": 20},\n",
    "        \"opponent_captain\":{\"type\":\"string\", \"minlength\": 2, \"maxlength\": 20},\n",
    "        \"toss\":{\"type\":\"number\", \"minimum\":0, \"maximum\":1, \"length\":1}    \n",
    "    },\n",
    "    \"required\":[\"country\", \"opponent\", \"date\", \"outcome\", \"stadium\", \n",
    "                \"host\",\"captain\", \"opponent_captain\", \"toss\"]  \n",
    "}\n",
    "\n",
    "# for i in \n",
    "country, opponent, date, outcome, stadium, host, captain, opponent_captain, toss = [],[],[],[],[],[],[],[],[]\n",
    "def appendOb(instance):\n",
    "    country.append(instance['country'])\n",
    "    opponent.append(instance['opponent'])\n",
    "    date.append(instance[\"date\"])\n",
    "    outcome.append(instance['outcome'])\n",
    "    stadium.append(instance['stadium'])\n",
    "    host.append(instance['host'])\n",
    "    captain.append(instance['captain'])\n",
    "    opponent_captain.append(instance['opponent_captain'])\n",
    "    toss.append(instance['toss'])\n",
    "\n",
    "\n",
    "\n",
    "\n",
    "def errValues(instance):\n",
    "    try:\n",
    "        validate(instance= instance, \n",
    "             schema=schema,)\n",
    "        print(\"This observation is complete.\")\n",
    "        appendOb(instance)\n",
    "    except Exception as e:\n",
    "        print(e)"
   ]
  },
  {
   "cell_type": "code",
   "execution_count": 93,
   "id": "242341b8",
   "metadata": {},
   "outputs": [
    {
     "name": "stdout",
     "output_type": "stream",
     "text": [
      "0 0 0 0 0 0 0 0 0\n"
     ]
    }
   ],
   "source": [
    "print(len(country), len(opponent), len(date), len(outcome), len(stadium), len(host), len(captain), len(opponent_captain), len(toss))"
   ]
  },
  {
   "cell_type": "code",
   "execution_count": 94,
   "id": "ed71049c",
   "metadata": {},
   "outputs": [
    {
     "name": "stdout",
     "output_type": "stream",
     "text": [
      "This observation is complete.\n",
      "This observation is complete.\n",
      "This observation is complete.\n",
      "This observation is complete.\n",
      "This observation is complete.\n",
      "This observation is complete.\n",
      "This observation is complete.\n",
      "This observation is complete.\n",
      "This observation is complete.\n",
      "This observation is complete.\n",
      "This observation is complete.\n",
      "This observation is complete.\n",
      "This observation is complete.\n",
      "This observation is complete.\n",
      "This observation is complete.\n",
      "This observation is complete.\n",
      "-2 is less than the minimum of -1\n",
      "\n",
      "Failed validating 'minimum' in schema['properties']['outcome']:\n",
      "    {'length': 1, 'maximum': 1, 'minimum': -1, 'type': 'number'}\n",
      "\n",
      "On instance['outcome']:\n",
      "    -2\n",
      "This observation is complete.\n",
      "This observation is complete.\n",
      "This observation is complete.\n",
      "This observation is complete.\n",
      "This observation is complete.\n",
      "This observation is complete.\n",
      "This observation is complete.\n",
      "This observation is complete.\n",
      "This observation is complete.\n",
      "This observation is complete.\n",
      "This observation is complete.\n",
      "This observation is complete.\n",
      "This observation is complete.\n",
      "This observation is complete.\n",
      "This observation is complete.\n",
      "'' is not of type 'number'\n",
      "\n",
      "Failed validating 'type' in schema['properties']['toss']:\n",
      "    {'length': 1, 'maximum': 1, 'minimum': 0, 'type': 'number'}\n",
      "\n",
      "On instance['toss']:\n",
      "    ''\n",
      "This observation is complete.\n",
      "This observation is complete.\n",
      "This observation is complete.\n",
      "This observation is complete.\n",
      "This observation is complete.\n",
      "This observation is complete.\n",
      "This observation is complete.\n",
      "This observation is complete.\n",
      "This observation is complete.\n",
      "This observation is complete.\n",
      "This observation is complete.\n",
      "This observation is complete.\n",
      "This observation is complete.\n",
      "This observation is complete.\n",
      "This observation is complete.\n",
      "This observation is complete.\n",
      "This observation is complete.\n",
      "This observation is complete.\n",
      "This observation is complete.\n",
      "This observation is complete.\n",
      "This observation is complete.\n",
      "This observation is complete.\n",
      "This observation is complete.\n",
      "This observation is complete.\n",
      "This observation is complete.\n",
      "This observation is complete.\n",
      "This observation is complete.\n",
      "This observation is complete.\n",
      "This observation is complete.\n",
      "This observation is complete.\n",
      "This observation is complete.\n",
      "This observation is complete.\n",
      "This observation is complete.\n",
      "This observation is complete.\n",
      "This observation is complete.\n",
      "This observation is complete.\n",
      "This observation is complete.\n",
      "This observation is complete.\n",
      "-2 is less than the minimum of -1\n",
      "\n",
      "Failed validating 'minimum' in schema['properties']['outcome']:\n",
      "    {'length': 1, 'maximum': 1, 'minimum': -1, 'type': 'number'}\n",
      "\n",
      "On instance['outcome']:\n",
      "    -2\n",
      "This observation is complete.\n",
      "This observation is complete.\n",
      "This observation is complete.\n",
      "This observation is complete.\n",
      "This observation is complete.\n",
      "This observation is complete.\n",
      "This observation is complete.\n",
      "This observation is complete.\n",
      "This observation is complete.\n",
      "This observation is complete.\n",
      "This observation is complete.\n",
      "This observation is complete.\n",
      "This observation is complete.\n",
      "-2 is less than the minimum of -1\n",
      "\n",
      "Failed validating 'minimum' in schema['properties']['outcome']:\n",
      "    {'length': 1, 'maximum': 1, 'minimum': -1, 'type': 'number'}\n",
      "\n",
      "On instance['outcome']:\n",
      "    -2\n",
      "This observation is complete.\n",
      "This observation is complete.\n",
      "This observation is complete.\n",
      "This observation is complete.\n",
      "This observation is complete.\n",
      "This observation is complete.\n",
      "This observation is complete.\n",
      "This observation is complete.\n",
      "This observation is complete.\n",
      "This observation is complete.\n",
      "This observation is complete.\n",
      "This observation is complete.\n",
      "This observation is complete.\n",
      "This observation is complete.\n",
      "This observation is complete.\n",
      "This observation is complete.\n",
      "This observation is complete.\n",
      "This observation is complete.\n",
      "This observation is complete.\n",
      "This observation is complete.\n",
      "This observation is complete.\n",
      "This observation is complete.\n",
      "This observation is complete.\n",
      "This observation is complete.\n",
      "This observation is complete.\n",
      "This observation is complete.\n",
      "This observation is complete.\n",
      "This observation is complete.\n",
      "This observation is complete.\n",
      "This observation is complete.\n"
     ]
    }
   ],
   "source": [
    "for i in range(len(team_name)):\n",
    "    errValues({'country':team_name[i], 'opponent': opponent_teams[i], \"date\":date_column[i], 'outcome':winners[i],\\\n",
    "              'stadium':stadiums[i], 'host':host_countries[i],\\\n",
    "          'captain':team_leaders[i], 'opponent_captain':op_team_leaders[i], 'toss':toss_results[i]})"
   ]
  },
  {
   "cell_type": "code",
   "execution_count": 95,
   "id": "1066dba0",
   "metadata": {
    "scrolled": true
   },
   "outputs": [
    {
     "name": "stdout",
     "output_type": "stream",
     "text": [
      "112 112 112 112 112 112 112 112 112\n"
     ]
    }
   ],
   "source": [
    "print(len(country), len(opponent), len(date), len(outcome), len(stadium), len(host), len(captain), len(opponent_captain), len(toss))"
   ]
  },
  {
   "cell_type": "code",
   "execution_count": 96,
   "id": "d5a8fb48",
   "metadata": {},
   "outputs": [
    {
     "name": "stdout",
     "output_type": "stream",
     "text": [
      "       country              opponent        date  outcome  \\\n",
      "0  Netherlands           New Zealand  17/02/1996        0   \n",
      "1  Netherlands               England  22/02/1996        0   \n",
      "2  Netherlands              Pakistan  26/02/1996        0   \n",
      "3  Netherlands  United Arab Emirates  01/03/1996        0   \n",
      "4  Netherlands          South Africa  05/03/1996        0   \n",
      "\n",
      "                      stadium      host          captain  opponent_captain  \\\n",
      "0            Reliance Stadium     India   Steven Lubbers        Lee Germon   \n",
      "1          Arbab Niaz Stadium  Pakistan   Steven Lubbers  Michael Atherton   \n",
      "2             Gaddafi Stadium  Pakistan  Roland Lefebvre       Wasim Akram   \n",
      "3             Gaddafi Stadium  Pakistan   Steven Lubbers   Sultan Zarawani   \n",
      "4  Rawalpindi Cricket Stadium  Pakistan   Steven Lubbers     Hansie Cronje   \n",
      "\n",
      "   toss  \n",
      "0     0  \n",
      "1     0  \n",
      "2     1  \n",
      "3     0  \n",
      "4     0  \n"
     ]
    }
   ],
   "source": [
    "import pandas as pd\n",
    "\n",
    " \n",
    "dataframe = pd.DataFrame(data = {'country': country, 'opponent': opponent, 'date':date,\\\n",
    "                                 'outcome':outcome, 'stadium': stadium, 'host':host,\\\n",
    "                                 'captain': captain, 'opponent_captain': opponent_captain, 'toss':toss})\n",
    "print(dataframe.head())\n",
    "dataframe.to_csv('Netherland.csv')  \n",
    "# print(len(country), len(opponent), len(date), len(outcome), len(stadium), len(host), len(captain), len(opponent_captain), len(toss))"
   ]
  }
 ],
 "metadata": {
  "kernelspec": {
   "display_name": "Python 3 (ipykernel)",
   "language": "python",
   "name": "python3"
  },
  "language_info": {
   "codemirror_mode": {
    "name": "ipython",
    "version": 3
   },
   "file_extension": ".py",
   "mimetype": "text/x-python",
   "name": "python",
   "nbconvert_exporter": "python",
   "pygments_lexer": "ipython3",
   "version": "3.9.17"
  }
 },
 "nbformat": 4,
 "nbformat_minor": 5
}
